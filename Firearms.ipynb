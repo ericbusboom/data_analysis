{
 "cells": [
  {
   "cell_type": "markdown",
   "metadata": {},
   "source": [
    "Internations firearms ownership and homicide data, from the [UN's Small Arms Survey](http://www.smallarmssurvey.org/publications/by-type/yearbook/small-arms-survey-2015.html), via an [article at the Guardian](http://www.theguardian.com/news/datablog/2012/jul/22/gun-homicides-ownership-world-list), where the data can be acquired as a Google spreadsheet.  "
   ]
  },
  {
   "cell_type": "code",
   "execution_count": 20,
   "metadata": {
    "collapsed": false
   },
   "outputs": [],
   "source": [
    "%matplotlib inline\n",
    "import matplotlib\n",
    "import numpy as np\n",
    "import matplotlib.pyplot as plt\n",
    "import pandas as pd\n",
    "df = pd.read_csv('wfs_ownership_murders.csv')\n",
    "cols = list(df.columns)\n",
    "\n",
    "cols[0] = 'country'\n",
    "cols[3] = 'pct_homicides_by_firearm'\n",
    "cols[4] = 'num_homicides_by_firearm'\n",
    "cols[5] = 'homicide_rate'\n",
    "cols[6] = 'ownership_rate_rank'\n",
    "cols[7] = 'ownership_rate'\n",
    "cols[8] = 'total_civilian_ownership'\n",
    "df.columns = cols"
   ]
  },
  {
   "cell_type": "code",
   "execution_count": 21,
   "metadata": {
    "collapsed": false
   },
   "outputs": [
    {
     "data": {
      "text/html": [
       "<div style=\"max-height:1000px;max-width:1500px;overflow:auto;\">\n",
       "<table border=\"1\" class=\"dataframe\">\n",
       "  <thead>\n",
       "    <tr style=\"text-align: right;\">\n",
       "      <th></th>\n",
       "      <th>country</th>\n",
       "      <th>ISO code</th>\n",
       "      <th>Source</th>\n",
       "      <th>pct_homicides_by_firearm</th>\n",
       "      <th>num_homicides_by_firearm</th>\n",
       "      <th>homicide_rate</th>\n",
       "      <th>ownership_rate_rank</th>\n",
       "      <th>ownership_rate</th>\n",
       "      <th>total_civilian_ownership</th>\n",
       "    </tr>\n",
       "  </thead>\n",
       "  <tbody>\n",
       "    <tr>\n",
       "      <th>0</th>\n",
       "      <td>   Albania</td>\n",
       "      <td> AL</td>\n",
       "      <td>                 CTS</td>\n",
       "      <td> 65.9</td>\n",
       "      <td>   56</td>\n",
       "      <td> 1.76</td>\n",
       "      <td> 70</td>\n",
       "      <td>  8.6</td>\n",
       "      <td>  270000</td>\n",
       "    </tr>\n",
       "    <tr>\n",
       "      <th>1</th>\n",
       "      <td>   Algeria</td>\n",
       "      <td> DZ</td>\n",
       "      <td>                 CTS</td>\n",
       "      <td>  4.8</td>\n",
       "      <td>   20</td>\n",
       "      <td> 0.06</td>\n",
       "      <td> 78</td>\n",
       "      <td>  7.6</td>\n",
       "      <td> 1900000</td>\n",
       "    </tr>\n",
       "    <tr>\n",
       "      <th>2</th>\n",
       "      <td>    Angola</td>\n",
       "      <td> AO</td>\n",
       "      <td>                 NaN</td>\n",
       "      <td>  NaN</td>\n",
       "      <td>  NaN</td>\n",
       "      <td>  NaN</td>\n",
       "      <td> 34</td>\n",
       "      <td> 17.3</td>\n",
       "      <td> 2800000</td>\n",
       "    </tr>\n",
       "    <tr>\n",
       "      <th>3</th>\n",
       "      <td>  Anguilla</td>\n",
       "      <td> AI</td>\n",
       "      <td>             WHO-MDB</td>\n",
       "      <td> 24.0</td>\n",
       "      <td>    1</td>\n",
       "      <td> 7.14</td>\n",
       "      <td>NaN</td>\n",
       "      <td>  NaN</td>\n",
       "      <td>     NaN</td>\n",
       "    </tr>\n",
       "    <tr>\n",
       "      <th>4</th>\n",
       "      <td> Argentina</td>\n",
       "      <td> AR</td>\n",
       "      <td> Ministry of Justice</td>\n",
       "      <td> 52.0</td>\n",
       "      <td> 1198</td>\n",
       "      <td> 3.02</td>\n",
       "      <td> 62</td>\n",
       "      <td> 10.2</td>\n",
       "      <td> 3950000</td>\n",
       "    </tr>\n",
       "  </tbody>\n",
       "</table>\n",
       "</div>"
      ],
      "text/plain": [
       "     country ISO code               Source  pct_homicides_by_firearm  \\\n",
       "0    Albania       AL                  CTS                      65.9   \n",
       "1    Algeria       DZ                  CTS                       4.8   \n",
       "2     Angola       AO                  NaN                       NaN   \n",
       "3   Anguilla       AI              WHO-MDB                      24.0   \n",
       "4  Argentina       AR  Ministry of Justice                      52.0   \n",
       "\n",
       "   num_homicides_by_firearm  homicide_rate  ownership_rate_rank  \\\n",
       "0                        56           1.76                   70   \n",
       "1                        20           0.06                   78   \n",
       "2                       NaN            NaN                   34   \n",
       "3                         1           7.14                  NaN   \n",
       "4                      1198           3.02                   62   \n",
       "\n",
       "   ownership_rate  total_civilian_ownership  \n",
       "0             8.6                    270000  \n",
       "1             7.6                   1900000  \n",
       "2            17.3                   2800000  \n",
       "3             NaN                       NaN  \n",
       "4            10.2                   3950000  "
      ]
     },
     "execution_count": 21,
     "metadata": {},
     "output_type": "execute_result"
    }
   ],
   "source": [
    "df.head()"
   ]
  },
  {
   "cell_type": "code",
   "execution_count": 22,
   "metadata": {
    "collapsed": false
   },
   "outputs": [
    {
     "data": {
      "text/html": [
       "<div style=\"max-height:1000px;max-width:1500px;overflow:auto;\">\n",
       "<table border=\"1\" class=\"dataframe\">\n",
       "  <thead>\n",
       "    <tr style=\"text-align: right;\">\n",
       "      <th></th>\n",
       "      <th>pct_homicides_by_firearm</th>\n",
       "      <th>num_homicides_by_firearm</th>\n",
       "      <th>homicide_rate</th>\n",
       "      <th>ownership_rate_rank</th>\n",
       "      <th>ownership_rate</th>\n",
       "      <th>total_civilian_ownership</th>\n",
       "    </tr>\n",
       "  </thead>\n",
       "  <tbody>\n",
       "    <tr>\n",
       "      <th>pct_homicides_by_firearm</th>\n",
       "      <td> 1.000000</td>\n",
       "      <td> 0.335228</td>\n",
       "      <td> 0.624795</td>\n",
       "      <td>-0.130062</td>\n",
       "      <td> 0.093335</td>\n",
       "      <td> 0.100974</td>\n",
       "    </tr>\n",
       "    <tr>\n",
       "      <th>num_homicides_by_firearm</th>\n",
       "      <td> 0.335228</td>\n",
       "      <td> 1.000000</td>\n",
       "      <td> 0.393307</td>\n",
       "      <td>-0.040497</td>\n",
       "      <td> 0.054215</td>\n",
       "      <td> 0.252594</td>\n",
       "    </tr>\n",
       "    <tr>\n",
       "      <th>homicide_rate</th>\n",
       "      <td> 0.624795</td>\n",
       "      <td> 0.393307</td>\n",
       "      <td> 1.000000</td>\n",
       "      <td> 0.008253</td>\n",
       "      <td>-0.102004</td>\n",
       "      <td>-0.019654</td>\n",
       "    </tr>\n",
       "    <tr>\n",
       "      <th>ownership_rate_rank</th>\n",
       "      <td>-0.130062</td>\n",
       "      <td>-0.040497</td>\n",
       "      <td> 0.008253</td>\n",
       "      <td> 1.000000</td>\n",
       "      <td>-0.824935</td>\n",
       "      <td>-0.180266</td>\n",
       "    </tr>\n",
       "    <tr>\n",
       "      <th>ownership_rate</th>\n",
       "      <td> 0.093335</td>\n",
       "      <td> 0.054215</td>\n",
       "      <td>-0.102004</td>\n",
       "      <td>-0.824935</td>\n",
       "      <td> 1.000000</td>\n",
       "      <td> 0.523829</td>\n",
       "    </tr>\n",
       "    <tr>\n",
       "      <th>total_civilian_ownership</th>\n",
       "      <td> 0.100974</td>\n",
       "      <td> 0.252594</td>\n",
       "      <td>-0.019654</td>\n",
       "      <td>-0.180266</td>\n",
       "      <td> 0.523829</td>\n",
       "      <td> 1.000000</td>\n",
       "    </tr>\n",
       "  </tbody>\n",
       "</table>\n",
       "</div>"
      ],
      "text/plain": [
       "                          pct_homicides_by_firearm  num_homicides_by_firearm  \\\n",
       "pct_homicides_by_firearm                  1.000000                  0.335228   \n",
       "num_homicides_by_firearm                  0.335228                  1.000000   \n",
       "homicide_rate                             0.624795                  0.393307   \n",
       "ownership_rate_rank                      -0.130062                 -0.040497   \n",
       "ownership_rate                            0.093335                  0.054215   \n",
       "total_civilian_ownership                  0.100974                  0.252594   \n",
       "\n",
       "                          homicide_rate  ownership_rate_rank  ownership_rate  \\\n",
       "pct_homicides_by_firearm       0.624795            -0.130062        0.093335   \n",
       "num_homicides_by_firearm       0.393307            -0.040497        0.054215   \n",
       "homicide_rate                  1.000000             0.008253       -0.102004   \n",
       "ownership_rate_rank            0.008253             1.000000       -0.824935   \n",
       "ownership_rate                -0.102004            -0.824935        1.000000   \n",
       "total_civilian_ownership      -0.019654            -0.180266        0.523829   \n",
       "\n",
       "                          total_civilian_ownership  \n",
       "pct_homicides_by_firearm                  0.100974  \n",
       "num_homicides_by_firearm                  0.252594  \n",
       "homicide_rate                            -0.019654  \n",
       "ownership_rate_rank                      -0.180266  \n",
       "ownership_rate                            0.523829  \n",
       "total_civilian_ownership                  1.000000  "
      ]
     },
     "execution_count": 22,
     "metadata": {},
     "output_type": "execute_result"
    }
   ],
   "source": [
    "df.corr()"
   ]
  },
  {
   "cell_type": "code",
   "execution_count": 23,
   "metadata": {
    "collapsed": false
   },
   "outputs": [
    {
     "data": {
      "text/html": [
       "<div style=\"max-height:1000px;max-width:1500px;overflow:auto;\">\n",
       "<table border=\"1\" class=\"dataframe\">\n",
       "  <thead>\n",
       "    <tr style=\"text-align: right;\">\n",
       "      <th></th>\n",
       "      <th>homicide_rate</th>\n",
       "      <th>ownership_rate</th>\n",
       "    </tr>\n",
       "  </thead>\n",
       "  <tbody>\n",
       "    <tr>\n",
       "      <th>homicide_rate</th>\n",
       "      <td> 1.000000</td>\n",
       "      <td>-0.102004</td>\n",
       "    </tr>\n",
       "    <tr>\n",
       "      <th>ownership_rate</th>\n",
       "      <td>-0.102004</td>\n",
       "      <td> 1.000000</td>\n",
       "    </tr>\n",
       "  </tbody>\n",
       "</table>\n",
       "</div>"
      ],
      "text/plain": [
       "                homicide_rate  ownership_rate\n",
       "homicide_rate        1.000000       -0.102004\n",
       "ownership_rate      -0.102004        1.000000"
      ]
     },
     "execution_count": 23,
     "metadata": {},
     "output_type": "execute_result"
    }
   ],
   "source": [
    "import matplotlib\n",
    "\n",
    "df2 = df[['homicide_rate','ownership_rate']]\n",
    "df2.corr()"
   ]
  },
  {
   "cell_type": "code",
   "execution_count": 24,
   "metadata": {
    "collapsed": false
   },
   "outputs": [
    {
     "data": {
      "text/plain": [
       "<matplotlib.axes._subplots.AxesSubplot at 0x112f82850>"
      ]
     },
     "execution_count": 24,
     "metadata": {},
     "output_type": "execute_result"
    },
    {
     "data": {
      "image/png": "[encoded data removed]",
      "text/plain": [
       "<matplotlib.figure.Figure at 0x116d2fa10>"
      ]
     },
     "metadata": {},
     "output_type": "display_data"
    }
   ],
   "source": [
    "df2.plot(x='homicide_rate',y='ownership_rate', kind='scatter')"
   ]
  },
  {
   "cell_type": "code",
   "execution_count": 27,
   "metadata": {
    "collapsed": false
   },
   "outputs": [
    {
     "data": {
      "text/html": [
       "<div style=\"max-height:1000px;max-width:1500px;overflow:auto;\">\n",
       "<table border=\"1\" class=\"dataframe\">\n",
       "  <thead>\n",
       "    <tr style=\"text-align: right;\">\n",
       "      <th></th>\n",
       "      <th>pct_homicides_by_firearm</th>\n",
       "      <th>num_homicides_by_firearm</th>\n",
       "      <th>homicide_rate</th>\n",
       "      <th>ownership_rate_rank</th>\n",
       "      <th>ownership_rate</th>\n",
       "      <th>total_civilian_ownership</th>\n",
       "    </tr>\n",
       "  </thead>\n",
       "  <tbody>\n",
       "    <tr>\n",
       "      <th>pct_homicides_by_firearm</th>\n",
       "      <td> 1.000000</td>\n",
       "      <td> 0.324549</td>\n",
       "      <td> 0.629266</td>\n",
       "      <td>-0.115760</td>\n",
       "      <td> 0.039435</td>\n",
       "      <td>-0.010201</td>\n",
       "    </tr>\n",
       "    <tr>\n",
       "      <th>num_homicides_by_firearm</th>\n",
       "      <td> 0.324549</td>\n",
       "      <td> 1.000000</td>\n",
       "      <td> 0.404144</td>\n",
       "      <td>-0.011282</td>\n",
       "      <td>-0.071306</td>\n",
       "      <td> 0.310830</td>\n",
       "    </tr>\n",
       "    <tr>\n",
       "      <th>homicide_rate</th>\n",
       "      <td> 0.629266</td>\n",
       "      <td> 0.404144</td>\n",
       "      <td> 1.000000</td>\n",
       "      <td> 0.005928</td>\n",
       "      <td>-0.114300</td>\n",
       "      <td>-0.020886</td>\n",
       "    </tr>\n",
       "    <tr>\n",
       "      <th>ownership_rate_rank</th>\n",
       "      <td>-0.115760</td>\n",
       "      <td>-0.011282</td>\n",
       "      <td> 0.005928</td>\n",
       "      <td> 1.000000</td>\n",
       "      <td>-0.882036</td>\n",
       "      <td>-0.205073</td>\n",
       "    </tr>\n",
       "    <tr>\n",
       "      <th>ownership_rate</th>\n",
       "      <td> 0.039435</td>\n",
       "      <td>-0.071306</td>\n",
       "      <td>-0.114300</td>\n",
       "      <td>-0.882036</td>\n",
       "      <td> 1.000000</td>\n",
       "      <td> 0.209044</td>\n",
       "    </tr>\n",
       "    <tr>\n",
       "      <th>total_civilian_ownership</th>\n",
       "      <td>-0.010201</td>\n",
       "      <td> 0.310830</td>\n",
       "      <td>-0.020886</td>\n",
       "      <td>-0.205073</td>\n",
       "      <td> 0.209044</td>\n",
       "      <td> 1.000000</td>\n",
       "    </tr>\n",
       "  </tbody>\n",
       "</table>\n",
       "</div>"
      ],
      "text/plain": [
       "                          pct_homicides_by_firearm  num_homicides_by_firearm  \\\n",
       "pct_homicides_by_firearm                  1.000000                  0.324549   \n",
       "num_homicides_by_firearm                  0.324549                  1.000000   \n",
       "homicide_rate                             0.629266                  0.404144   \n",
       "ownership_rate_rank                      -0.115760                 -0.011282   \n",
       "ownership_rate                            0.039435                 -0.071306   \n",
       "total_civilian_ownership                 -0.010201                  0.310830   \n",
       "\n",
       "                          homicide_rate  ownership_rate_rank  ownership_rate  \\\n",
       "pct_homicides_by_firearm       0.629266            -0.115760        0.039435   \n",
       "num_homicides_by_firearm       0.404144            -0.011282       -0.071306   \n",
       "homicide_rate                  1.000000             0.005928       -0.114300   \n",
       "ownership_rate_rank            0.005928             1.000000       -0.882036   \n",
       "ownership_rate                -0.114300            -0.882036        1.000000   \n",
       "total_civilian_ownership      -0.020886            -0.205073        0.209044   \n",
       "\n",
       "                          total_civilian_ownership  \n",
       "pct_homicides_by_firearm                 -0.010201  \n",
       "num_homicides_by_firearm                  0.310830  \n",
       "homicide_rate                            -0.020886  \n",
       "ownership_rate_rank                      -0.205073  \n",
       "ownership_rate                            0.209044  \n",
       "total_civilian_ownership                  1.000000  "
      ]
     },
     "execution_count": 27,
     "metadata": {},
     "output_type": "execute_result"
    }
   ],
   "source": [
    "df[df.country != 'United States'].corr()"
   ]
  },
  {
   "cell_type": "code",
   "execution_count": 30,
   "metadata": {
    "collapsed": false
   },
   "outputs": [
    {
     "name": "stdout",
     "output_type": "stream",
     "text": [
      "nan nan\n"
     ]
    },
    {
     "data": {
      "text/plain": [
       "[<matplotlib.lines.Line2D at 0x116e84a90>]"
      ]
     },
     "execution_count": 30,
     "metadata": {},
     "output_type": "execute_result"
    },
    {
     "data": {
      "image/png": "[encoded data removed]",
      "text/plain": [
       "<matplotlib.figure.Figure at 0x1130536d0>"
      ]
     },
     "metadata": {},
     "output_type": "display_data"
    }
   ],
   "source": [
    "\n",
    "# sample data\n",
    "x = df.homicide_rate \n",
    "y = df.ownership_rate \n",
    "\n",
    "print x,y\n",
    "\n",
    "# fit with np.polyfit\n",
    "m, b = np.polyfit(x, y, 1)\n",
    "\n",
    "\n",
    "plt.plot(x, y, '.')\n",
    "plt.plot(x, m*x + b, '-')"
   ]
  },
  {
   "cell_type": "code",
   "execution_count": null,
   "metadata": {
    "collapsed": true
   },
   "outputs": [],
   "source": []
  }
 ],
 "metadata": {
  "kernelspec": {
   "display_name": "Python 2",
   "language": "python",
   "name": "python2"
  },
  "language_info": {
   "codemirror_mode": {
    "name": "ipython",
    "version": 2
   },
   "file_extension": ".py",
   "mimetype": "text/x-python",
   "name": "python",
   "nbconvert_exporter": "python",
   "pygments_lexer": "ipython2",
   "version": "2.7.6"
  }
 },
 "nbformat": 4,
 "nbformat_minor": 0
}
