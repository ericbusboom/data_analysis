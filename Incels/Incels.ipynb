{
 "cells": [
  {
   "cell_type": "markdown",
   "metadata": {},
   "source": [
    "# Male Sexlessness\n",
    "\n",
    "The Institute for Family Studies is running an article about Incels, [Male Sexlessness is Rising But Not for the Reasons Incels Claim](https://ifstudies.org/blog/male-sexlessness-is-rising-but-not-for-the-reasons-incels-claim?fbclid=IwAR0GYoTt6c6J2x2d1mU6DTOIlUcbGFFoGPsZoInctRU24Mcyy232-p17gUQ), which uses data from the General Social Survey. The GSS is easy to process and use, so I decided to try to replicate the chart in the article\n",
    "\n",
    "<img src=\"https://ifstudies.org/ifs-admin/resources/2-comparison-graph-w640.png\">\n",
    "\n",
    "That's a very steep increase from 2010, and I'm skeptical, especially because, as the article notes, the rise is not supported by NHANES nor NSFG. \n",
    "\n",
    "The only solid information I could find about how the GSS data is processed is at the botton of the chart: \n",
    "\n",
    ">NHANES and GSSS pooling on samples on 2 years of each side of the label year. ... GSS \"Never Married\", \n",
    ">\n",
    "\n",
    "To do this analysis, used the [GSS Data Explorer](https://gssdataexplorer.norc.org/) to extract these variables: \n",
    "\n",
    "    year      Gss year for this respondent                       \n",
    "    sexfreq   Frequency of sex during last year\n",
    "    partners  How many sex partners r had in last year\n",
    "    marital   Marital status\n",
    "    id_       Respondent id number\n",
    "    \n",
    "You can download the data package from my [GSS project for this analysis. ](https://gssdataexplorer.norc.org/projects/69138). \n",
    "\n",
    "Based on the comment on the chart, this analysis will: \n",
    "\n",
    "* Extract the males who are never married and between 22 and 35 years old, inclusive. \n",
    "* Group by year and count the number of respondents who report no sex in last year for sexual frequence\n",
    "* Group by year and count the number of respondents who report no sex partners in last year\n",
    "* Average the two previous counts, per year. \n",
    "* Compute the 5 year rolling average of the counts\n",
    "* Divide the rolling average by the number of respondents\n",
    "\n",
    "The query to extract the sub-group of respondents is:\n",
    "\n",
    "    \"year >= 1988 and marital == 'Never married' and sex == 'Male' and age >=22 and age<= 35 \"\n",
    "\n",
    "The result is a completely different chart. \n"
   ]
  },
  {
   "cell_type": "code",
   "execution_count": 1,
   "metadata": {},
   "outputs": [],
   "source": [
    "import seaborn as sns\n",
    "import pandas as pd\n",
    "import geopandas as gpd\n",
    "import descartes\n",
    "import numpy as np\n",
    "import matplotlib.pyplot as plt\n",
    "from IPython.display import display "
   ]
  },
  {
   "cell_type": "code",
   "execution_count": 28,
   "metadata": {},
   "outputs": [],
   "source": [
    "df = pd.read_csv('married_sex.csv', low_memory=False)\n",
    "\n",
    "# Replace the question titles with variable names\n",
    "df.columns = \"\"\"year\n",
    "evpaidsx\n",
    "sexsex5\n",
    "partnrs5\n",
    "sexfreq\n",
    "partners\n",
    "absingle\n",
    "race\n",
    "sex\n",
    "educ\n",
    "age\n",
    "widowed\n",
    "divorce\n",
    "marital\n",
    "id_\n",
    "ballot\"\"\".splitlines()\n",
    "\n"
   ]
  },
  {
   "cell_type": "code",
   "execution_count": 135,
   "metadata": {},
   "outputs": [
    {
     "data": {
      "text/plain": [
       "Text(0.5, 1.0, 'Percent 22 to 35 YO Males, No Sex in Last Year')"
      ]
     },
     "execution_count": 135,
     "metadata": {},
     "output_type": "execute_result"
    },
    {
     "data": {
      "image/png": "[encoded data removed]",
      "text/plain": [
       "<Figure size 432x288 with 1 Axes>"
      ]
     },
     "metadata": {
      "needs_background": "light"
     },
     "output_type": "display_data"
    }
   ],
   "source": [
    "# Fix non-numerics\n",
    "df['age'] = pd.to_numeric(df.age, errors='coerce')\n",
    "df['year'] = pd.to_numeric(df.year, errors='coerce')\n",
    "\n",
    "# Sub-group query\n",
    "sg = df.query(\"year >= 1988 and marital == 'Never married' and sex == 'Male' and age >=22 and age<= 35 \")\n",
    "\n",
    "total = sg.groupby('year').count()[['id_']]\n",
    "\n",
    "t1 = sg.groupby(['year','partners']).count()[['id_']].unstack().fillna(0)\n",
    "t1.columns = t1.columns.droplevel()\n",
    "t1 = t1[['No partners']]\n",
    "\n",
    "t2 =sg.groupby(['year','sexfreq']).count()[['id_']].unstack().fillna(0)\n",
    "t2.columns = t2.columns.droplevel()\n",
    "t2 = t2[['Not at all']]\n",
    "\n",
    "t = total.join(t1).join(t2)\n",
    "t.columns = ['total', 'no_partners','no_sex']\n",
    "t['ns_np_mean'] = (t.no_partners + t.no_sex)/2\n",
    "\n",
    "t = t.rolling(5).sum()\n",
    "\n",
    "t['ns_np_pct'] = (t.ns_np_mean / t.total)\n",
    "\n",
    "ax = t.ns_np_pct.plot()\n",
    "ax.set_title('Percent 22 to 35 YO Males, No Sex in Last Year')\n",
    "\n"
   ]
  },
  {
   "cell_type": "code",
   "execution_count": null,
   "metadata": {},
   "outputs": [],
   "source": []
  }
 ],
 "metadata": {
  "kernelspec": {
   "display_name": "Python 3",
   "language": "python",
   "name": "python3"
  },
  "language_info": {
   "codemirror_mode": {
    "name": "ipython",
    "version": 3
   },
   "file_extension": ".py",
   "mimetype": "text/x-python",
   "name": "python",
   "nbconvert_exporter": "python",
   "pygments_lexer": "ipython3",
   "version": "3.7.4"
  }
 },
 "nbformat": 4,
 "nbformat_minor": 4
}
